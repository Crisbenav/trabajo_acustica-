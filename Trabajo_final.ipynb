{
 "cells": [
  {
   "cell_type": "markdown",
   "id": "92d77344-21fc-49df-8da4-e238e0d83399",
   "metadata": {},
   "source": [
    "<h1 style=\"text-align:center\">Trabajo Final - Evaluar la rigidez dinámica de materiales acústicos mediante una interfaz utilizando Python</h1>\n",
    "<h2 style=\"text-align:center\"> ACUS220: Acústica Computacional con Python </h2>\n",
    "<h3 style=\"text-align:center\"> Primer semestre 2024 </h3>\n",
    "\n",
    "<p style=\"text-align:center\"> <b>Estudiantes </b></p>\n",
    "\n",
    "<p style=\"text-align:center\"> Cristian Benavides <br>\n",
    "<a href=\"mailto:cristian.benavides@alumnos.uach.cl\">cristian.benavides@alumnos.uach.cl</a><br>\n",
    "\n",
    "<p style=\"text-align:center\"> Felipe Almarza  <br>\n",
    "<a href=\"mailto:felipe.almarza@alumnos.uach.cl\">felipe.almarza@alumnos.uach.cl</a><br>\n",
    "<p style=\"text-align:center\"> <b>Profesor </b></p>\n",
    "<p style=\"text-align:center\">Dr. Víctor Poblete R. <br>\n",
    "<a href=\"mailto:vpoblete@uach.cl\">vpoblete@uach.cl</a><br>\n",
    "<!--  -->\n",
    "<p style=\"text-align:center\"> <b>Ayudante </b></p>\n",
    "\n",
    "<p style=\"text-align:center\">Diego Espejo H.<br>\n",
    "<a href=\"mailto:vpoblete@uach.cl\">diego.espejo@aumilab.cl</a><br>"
   ]
  },
  {
   "cell_type": "markdown",
   "id": "42118b33-0efe-494d-a3c0-99ba7e669e9d",
   "metadata": {},
   "source": [
    "## Introducción "
   ]
  },
  {
   "cell_type": "markdown",
   "id": "9ea24866-8d88-431c-9228-445087f3990e",
   "metadata": {},
   "source": [
    "El presente informe documenta el desarrollo de una interfaz gráfica diseñada para calcular la rigidez dinámica de materiales acústicos, utilizando Python y la biblioteca Flet. La rigidez dinámica es una propiedad crucial en el estudio de materiales acústicos, ya que determina cómo un material responde a las vibraciones y ondas sonoras. Esta interfaz tiene como objetivo facilitar a los usuarios, especialmente ingenieros y profesionales en acústica, la evaluación de la rigidez dinámica a partir de la selección de un material, el ingreso de sus dimensiones y su masa."
   ]
  },
  {
   "cell_type": "markdown",
   "id": "f9fe8289-90aa-4b82-8607-ae86dbd8ccb3",
   "metadata": {},
   "source": [
    "La interfaz está diseñada para ser intuitiva y fácil de usar, permitiendo una rápida introducción de datos y obteniendo resultados precisos. Además, se incluye una visualización clara de la fórmula utilizada para el cálculo de la rigidez dinámica, así como una descripción de sus componentes."
   ]
  },
  {
   "cell_type": "markdown",
   "id": "160cf798-5e96-4442-a01b-e552a3c6f485",
   "metadata": {},
   "source": [
    "## Objetivo "
   ]
  },
  {
   "cell_type": "markdown",
   "id": "5b6e7283-ffd0-4dae-9c27-bf3c3bb2e069",
   "metadata": {},
   "source": [
    "- Desarrollar una interfaz en Python para calcular la rigidez dinámica de materiales acústicos."
   ]
  },
  {
   "cell_type": "markdown",
   "id": "85e75294-7ab8-4c3a-ae44-a85722ad9231",
   "metadata": {},
   "source": [
    "## Contexto del estudio "
   ]
  },
  {
   "cell_type": "markdown",
   "id": "a3c448e3-928c-4262-a770-81f3361ba889",
   "metadata": {},
   "source": [
    "Informar sobre la mejora en el aislamiento acústico de un piso laminado típico y realizar cálculos acústicos para determinar la rigidez dinámica teniendo en cuenta las características de las capas."
   ]
  },
  {
   "cell_type": "markdown",
   "id": "15a4680b-618b-4c31-ba50-8f749599e85d",
   "metadata": {},
   "source": [
    "#### Caracteristicas de las capas "
   ]
  },
  {
   "cell_type": "markdown",
   "id": "566a2e51-a86a-4f27-8de6-04aeaebf3fda",
   "metadata": {},
   "source": [
    "<p align=\"center\">\n",
    "<img src=\"informar.png\" width=600> \n",
    "<p>"
   ]
  },
  {
   "cell_type": "markdown",
   "id": "bd69fc1f-5121-44b5-9975-680045346f17",
   "metadata": {},
   "source": [
    "#### Metodología "
   ]
  },
  {
   "cell_type": "markdown",
   "id": "aa1ea335-97bd-47bb-83de-0649a3a9026b",
   "metadata": {},
   "source": [
    "<p align=\"center\">\n",
    "<img src=\"metodologia.png\" width=700> \n",
    "<p>"
   ]
  },
  {
   "cell_type": "markdown",
   "id": "6185a8ff-4983-4ff4-b69a-518f9a099746",
   "metadata": {},
   "source": [
    "## Desarrollo de la interfaz "
   ]
  },
  {
   "cell_type": "markdown",
   "id": "71770780-6db5-4049-aff1-4040179d164c",
   "metadata": {},
   "source": [
    "#### Herramientas utilizadas "
   ]
  },
  {
   "cell_type": "markdown",
   "id": "848267d9-043f-4dcf-b0c0-d79dae0e6a8b",
   "metadata": {},
   "source": [
    "Para la implementación de la interfaz, se utilizó: \n",
    "- Python: Lenguaje de programación principal, version 3.12.2.\n",
    "- Flet: Biblioteca de Python para construir aplicaciones web y de escritorio con interfaces de usuario interactivas."
   ]
  },
  {
   "cell_type": "markdown",
   "id": "4b6ab937-eff2-4d47-be47-bc3068406f3e",
   "metadata": {},
   "source": [
    "#### Diseño de la interfaz "
   ]
  },
  {
   "cell_type": "markdown",
   "id": "71c564d1-2f0f-45aa-bbfb-56a14abb517a",
   "metadata": {},
   "source": [
    "La interfaz gráfica fue diseñada para ser intuitiva y fácil de usar. Incluye los siguientes componentes:\n",
    "- Desplegable de Materiales: Permite seleccionar un material de una lista predefinida.\n",
    "- Campos de Entrada: Para ingresar las dimensiones (ancho y largo) y la masa del material.\n",
    "- Botón de Cálculo: Al presionarlo, se calcula la rigidez dinámica utilizando la fórmula especificada.\n",
    "- Área de Resultados: Muestra el nombre del material, la frecuencia de resonancia y la rigidez dinámica calculada.\n",
    "- Ecuación Descriptiva: Visualización de la fórmula de rigidez dinámica y sus componentes."
   ]
  },
  {
   "cell_type": "markdown",
   "id": "8924dbd5-812e-4590-975b-9a00fff742b4",
   "metadata": {},
   "source": [
    "#### Implementación "
   ]
  },
  {
   "cell_type": "markdown",
   "id": "13cef17a-baee-47be-b9d8-1f3dc929712c",
   "metadata": {},
   "source": [
    "El código fue desarrollado en Python utilizando la biblioteca Flet. A continuación, se presenta una descripción de los pasos clave en la implementación:"
   ]
  },
  {
   "cell_type": "markdown",
   "id": "d27ee2a3-4335-454f-99a6-c0752d063681",
   "metadata": {},
   "source": [
    "##### Inicialización de la Página "
   ]
  },
  {
   "cell_type": "markdown",
   "id": "64c85480-bceb-42c1-91e6-406028aac8d1",
   "metadata": {},
   "source": [
    "<p align=\"center\">\n",
    "<img src=\"inicializacion.JPG\" width=500> \n",
    "<p>"
   ]
  },
  {
   "cell_type": "markdown",
   "id": "47f71186-7307-4e50-beb9-c75abdc8ac0c",
   "metadata": {},
   "source": [
    "##### Definición de Materiales:"
   ]
  },
  {
   "cell_type": "markdown",
   "id": "1f86eb72-c768-45a8-b1c6-ac619101d69a",
   "metadata": {},
   "source": [
    "<p align=\"center\">\n",
    "<img src=\"materiales.JPG\" width=500> \n",
    "<p>"
   ]
  },
  {
   "cell_type": "markdown",
   "id": "0bc846d9-9c76-4f6c-9a8a-24a3d993c3b4",
   "metadata": {},
   "source": [
    "##### Función para Manejar la Selección del Material:"
   ]
  },
  {
   "cell_type": "markdown",
   "id": "dc484678-1e96-4843-9727-935b0f73a965",
   "metadata": {},
   "source": [
    "<p align=\"center\">\n",
    "<img src=\"seleccion_materiales.JPG\" width=800> \n",
    "<p>"
   ]
  },
  {
   "cell_type": "markdown",
   "id": "b65ce5f9-80d0-48d2-837d-ea570508178c",
   "metadata": {},
   "source": [
    "##### Campos de Entrada y Botón de Cálculo:"
   ]
  },
  {
   "cell_type": "markdown",
   "id": "22e8c84d-d665-400a-a29e-d3017e8a89cf",
   "metadata": {},
   "source": [
    "<p align=\"center\">\n",
    "<img src=\"campos_estrada.JPG\" width=800> \n",
    "<p>"
   ]
  },
  {
   "cell_type": "markdown",
   "id": "8cf1183c-b472-46db-aa92-9b84d50eee1a",
   "metadata": {},
   "source": [
    "##### Función para Calcular la Rigidez Dinámica:"
   ]
  },
  {
   "cell_type": "markdown",
   "id": "60a82d68-f08c-4361-af30-53f30998c618",
   "metadata": {},
   "source": [
    "<p align=\"center\">\n",
    "<img src=\"calculo.JPG\" width=500> \n",
    "<p>"
   ]
  },
  {
   "cell_type": "markdown",
   "id": "959808e8-891a-4ff3-a1e8-935e35508655",
   "metadata": {},
   "source": [
    "##### Visualización de la Ecuación y Elementos Adicionales:"
   ]
  },
  {
   "cell_type": "markdown",
   "id": "0b58363a-cb24-4638-b65d-d998fddb673c",
   "metadata": {},
   "source": [
    "<p align=\"center\">\n",
    "<img src=\"visualizacion.JPG\" width=800> \n",
    "<p>"
   ]
  },
  {
   "cell_type": "markdown",
   "id": "e65f0ada-f248-404e-b7cb-0031320ae7b6",
   "metadata": {},
   "source": [
    "##### Agregado de Elementos a la Página:"
   ]
  },
  {
   "cell_type": "markdown",
   "id": "f26e0905-0d59-4d3e-b2b8-c44a24dd3457",
   "metadata": {},
   "source": [
    "<p align=\"center\">\n",
    "<img src=\"agregados.JPG\" width=400> \n",
    "<p>"
   ]
  },
  {
   "cell_type": "markdown",
   "id": "38af1787-9cdc-4476-853b-c73a18a9ef17",
   "metadata": {},
   "source": [
    "## Conclusión "
   ]
  },
  {
   "cell_type": "markdown",
   "id": "bf17898b-1951-4b24-bcbe-ed9067847b82",
   "metadata": {},
   "source": [
    "La interfaz desarrollada proporciona una herramienta eficaz para evaluar la rigidez dinámica de materiales acústicos. Permite a los usuarios ingresar datos específicos y obtener resultados precisos de manera interactiva. La visualización clara de la fórmula y su significado facilita la comprensión del cálculo, haciendo de esta herramienta un recurso valioso para ingenieros y profesionales en el campo de la acústica."
   ]
  },
  {
   "cell_type": "markdown",
   "id": "97923b31-0227-4abd-ada0-3b911c703361",
   "metadata": {},
   "source": [
    "## Biliografía "
   ]
  },
  {
   "cell_type": "markdown",
   "id": "9e2e1951-2421-4246-9a28-72f528f416e2",
   "metadata": {},
   "source": [
    "- J. Arenas, L. Sepulveda, Impact sound insulation of a lightweight laminate floor resting on a thin underlayment material above a concrete slab J. Build. Eng. 45 (2022), [https://www.sciencedirect.com/science/article/abs/pii/S2352710221013954?via%3Dihub].\n",
    "- Flet: Build multi-platform apps in Python powered by Flutter [https://flet.dev/docs/]."
   ]
  }
 ],
 "metadata": {
  "kernelspec": {
   "display_name": "acus220",
   "language": "python",
   "name": "acus220"
  },
  "language_info": {
   "codemirror_mode": {
    "name": "ipython",
    "version": 3
   },
   "file_extension": ".py",
   "mimetype": "text/x-python",
   "name": "python",
   "nbconvert_exporter": "python",
   "pygments_lexer": "ipython3",
   "version": "3.12.2"
  }
 },
 "nbformat": 4,
 "nbformat_minor": 5
}
